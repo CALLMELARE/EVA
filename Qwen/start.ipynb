{
 "cells": [
  {
   "cell_type": "code",
   "execution_count": null,
   "metadata": {},
   "outputs": [
    {
     "name": "stdout",
     "output_type": "stream",
     "text": [
      "Question: What are these?\n",
      "Answer: These are street signs and traffic lights at an intersection. The prominent sign in the foreground is a \"STOP\" sign, indicating that vehicles must come to a complete stop before proceeding. There are also other signs and traffic lights visible in the background, which likely provide additional information about the road conditions or traffic rules. The scene appears to be in an urban or suburban area with residential buildings on one side and possibly commercial or industrial structures on the other.\n"
     ]
    }
   ],
   "source": [
    "import requests\n",
    "\n",
    "# 请求 URL\n",
    "url = 'http://localhost:5000/predict'\n",
    "\n",
    "# 图片文件路径\n",
    "files = {'image': open('./demo.jpg', 'rb')}\n",
    "data = {'prompt': 'What are these?'}\n",
    "\n",
    "# 发送 POST 请求\n",
    "response = requests.post(url, files=files, data=data)\n",
    "\n",
    "# 检查响应状态码\n",
    "if response.status_code == 200:\n",
    "    # 解析 JSON 响应\n",
    "    result_dict = response.json()\n",
    "    result_text = result_dict.get('result')\n",
    "\n",
    "    if result_text:\n",
    "        answer = result_text[0]\n",
    "        print(f\"Question: {data['prompt']}\")\n",
    "        print(f\"Answer: {answer}\")\n",
    "else:\n",
    "    print(f\"Failed: {response.status_code}\")"
   ]
  }
 ],
 "metadata": {
  "kernelspec": {
   "display_name": "base",
   "language": "python",
   "name": "python3"
  },
  "language_info": {
   "codemirror_mode": {
    "name": "ipython",
    "version": 3
   },
   "file_extension": ".py",
   "mimetype": "text/x-python",
   "name": "python",
   "nbconvert_exporter": "python",
   "pygments_lexer": "ipython3",
   "version": "3.9.7"
  }
 },
 "nbformat": 4,
 "nbformat_minor": 2
}
