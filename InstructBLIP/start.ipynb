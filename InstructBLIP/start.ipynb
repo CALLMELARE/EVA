{
 "cells": [
  {
   "cell_type": "code",
   "execution_count": 5,
   "metadata": {},
   "outputs": [
    {
     "ename": "AttributeError",
     "evalue": "'list' object has no attribute 'startswith'",
     "output_type": "error",
     "traceback": [
      "\u001b[0;31m---------------------------------------------------------------------------\u001b[0m",
      "\u001b[0;31mAttributeError\u001b[0m                            Traceback (most recent call last)",
      "Cell \u001b[0;32mIn[5], line 25\u001b[0m\n\u001b[1;32m     22\u001b[0m question_content \u001b[38;5;241m=\u001b[39m data[\u001b[38;5;124m'\u001b[39m\u001b[38;5;124mprompt\u001b[39m\u001b[38;5;124m'\u001b[39m]\n\u001b[1;32m     24\u001b[0m \u001b[38;5;66;03m# 检查回答是否以问题内容开头\u001b[39;00m\n\u001b[0;32m---> 25\u001b[0m \u001b[38;5;28;01mif\u001b[39;00m \u001b[43manswer\u001b[49m\u001b[38;5;241;43m.\u001b[39;49m\u001b[43mstartswith\u001b[49m(question_content):\n\u001b[1;32m     26\u001b[0m     \u001b[38;5;66;03m# 若以问题内容开头，则剔除问题内容并去除多余的前导空格\u001b[39;00m\n\u001b[1;32m     27\u001b[0m     answer \u001b[38;5;241m=\u001b[39m answer[\u001b[38;5;28mlen\u001b[39m(question_content):]\u001b[38;5;241m.\u001b[39mlstrip()\n\u001b[1;32m     28\u001b[0m \u001b[38;5;28;01melse\u001b[39;00m:\n",
      "\u001b[0;31mAttributeError\u001b[0m: 'list' object has no attribute 'startswith'"
     ]
    }
   ],
   "source": [
    "import requests\n",
    "\n",
    "# 请求 URL\n",
    "url = 'http://localhost:5000/predict'\n",
    "\n",
    "# 图片文件路径\n",
    "files = {'image': open('./demo.jpg', 'rb')}\n",
    "data = {'prompt': 'What are these?'}\n",
    "\n",
    "# 发送 POST 请求\n",
    "response = requests.post(url, files=files, data=data)\n",
    "\n",
    "# 检查响应状态码\n",
    "if response.status_code == 200:\n",
    "    # 解析 JSON 响应\n",
    "    result_dict = response.json()\n",
    "    result_text = result_dict.get('result')\n",
    "\n",
    "    if result_text:\n",
    "        answer = result_text\n",
    "        # 提取出问题的关键内容\n",
    "        question_content = data['prompt']\n",
    "\n",
    "        # 检查回答是否以问题内容开头\n",
    "        if answer.startswith(question_content):\n",
    "            # 若以问题内容开头，则剔除问题内容并去除多余的前导空格\n",
    "            answer = answer[len(question_content):].lstrip()\n",
    "        else:\n",
    "            answer = answer\n",
    "        print(f\"Question: {data['prompt']}\")\n",
    "        print(f\"Answer: {answer}\")\n",
    "else:\n",
    "    print(f\"Failed: {response.status_code}\")"
   ]
  }
 ],
 "metadata": {
  "kernelspec": {
   "display_name": "base",
   "language": "python",
   "name": "python3"
  },
  "language_info": {
   "codemirror_mode": {
    "name": "ipython",
    "version": 3
   },
   "file_extension": ".py",
   "mimetype": "text/x-python",
   "name": "python",
   "nbconvert_exporter": "python",
   "pygments_lexer": "ipython3",
   "version": "3.8.10"
  }
 },
 "nbformat": 4,
 "nbformat_minor": 2
}
