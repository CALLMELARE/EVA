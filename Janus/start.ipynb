{
 "cells": [
  {
   "cell_type": "code",
   "execution_count": 5,
   "metadata": {},
   "outputs": [
    {
     "name": "stdout",
     "output_type": "stream",
     "text": [
      "Question: What are these?\n",
      "Answer: These are a set of road markings on a street. The markings include a \"STOP\" sign and yellow crosswalk lines.\n"
     ]
    }
   ],
   "source": [
    "import requests\n",
    "import os\n",
    "\n",
    "# 请求 URL\n",
    "url = 'http://localhost:5000/predict'\n",
    "\n",
    "image_path = os.path.join(\"/root/autodl-tmp/Models/Janus\")\n",
    "\n",
    "# 图片文件路径\n",
    "data = {'prompt': 'What are these?','image': os.path.join(image_path,'demo.jpg')}\n",
    "\n",
    "# 发送 POST 请求\n",
    "response = requests.post(url, data=data)\n",
    "\n",
    "# 检查响应状态码\n",
    "if response.status_code == 200:\n",
    "    # 解析 JSON 响应\n",
    "    result_dict = response.json()\n",
    "    # print(result_dict)\n",
    "    answer = result_dict.get('result').strip()\n",
    "\n",
    "    print(f\"Question: {data['prompt']}\")\n",
    "    print(f\"Answer: {answer}\")\n",
    "else:\n",
    "    print(f\"Failed: {response.status_code}\")"
   ]
  }
 ],
 "metadata": {
  "kernelspec": {
   "display_name": "base",
   "language": "python",
   "name": "python3"
  },
  "language_info": {
   "codemirror_mode": {
    "name": "ipython",
    "version": 3
   },
   "file_extension": ".py",
   "mimetype": "text/x-python",
   "name": "python",
   "nbconvert_exporter": "python",
   "pygments_lexer": "ipython3",
   "version": "3.9.7"
  }
 },
 "nbformat": 4,
 "nbformat_minor": 2
}
